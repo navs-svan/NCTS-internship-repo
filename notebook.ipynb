{
 "cells": [
  {
   "cell_type": "markdown",
   "metadata": {},
   "source": [
    "### import pandas"
   ]
  },
  {
   "cell_type": "code",
   "execution_count": 5,
   "metadata": {},
   "outputs": [],
   "source": [
    "import pandas as pd"
   ]
  },
  {
   "cell_type": "markdown",
   "metadata": {},
   "source": [
    "### import dataset"
   ]
  },
  {
   "cell_type": "code",
   "execution_count": 6,
   "metadata": {},
   "outputs": [],
   "source": [
    "\n",
    "filename = \"Valenzuela_Data.xlsx\"\n",
    "df = pd.read_excel(filename)"
   ]
  },
  {
   "cell_type": "markdown",
   "metadata": {},
   "source": [
    "### Preview of the dataset"
   ]
  },
  {
   "cell_type": "markdown",
   "metadata": {},
   "source": []
  },
  {
   "cell_type": "code",
   "execution_count": 7,
   "metadata": {},
   "outputs": [
    {
     "name": "stdout",
     "output_type": "stream",
     "text": [
      "<class 'pandas.core.frame.DataFrame'>\n",
      "RangeIndex: 583 entries, 0 to 582\n",
      "Data columns (total 54 columns):\n",
      " #   Column                                                                                                                                                                                                                                                      Non-Null Count  Dtype         \n",
      "---  ------                                                                                                                                                                                                                                                      --------------  -----         \n",
      " 0   Timestamp                                                                                                                                                                                                                                                   583 non-null    datetime64[ns]\n",
      " 1   Your participation in this survey is voluntary. If you have read the purpose of this survey and have decided to participate in this survey, please click \"Yes\". If you do not wish to participate, please click \"No\".                                       583 non-null    object        \n",
      " 2   Please enter the code that your teacher has given you to answer this survey. (example: 0012345)                                                                                                                                                             583 non-null    object        \n",
      " 3   1. Sex:                                                                                                                                                                                                                                                     583 non-null    object        \n",
      " 4   2. Age:                                                                                                                                                                                                                                                     583 non-null    int64         \n",
      " 5   3. Height: (Answers can be in: __ ft. __ in.  or  __ cm.)                                                                                                                                                                                                   579 non-null    object        \n",
      " 6   4. Grade level:                                                                                                                                                                                                                                             583 non-null    int64         \n",
      " 7   5. Class Shift:                                                                                                                                                                                                                                             583 non-null    object        \n",
      " 8   6. Who answered this questionnaire?                                                                                                                                                                                                                         583 non-null    object        \n",
      " 9   7. Date:                                                                                                                                                                                                                                                    583 non-null    object        \n",
      " 10  1. What modes of transportation did you take when you last went to school before the COVID-19 community quarantine started? Check all that apply. (Anu-ano ang mga sinakyan mo papuntang paaralan?)                                                         583 non-null    object        \n",
      " 11  1a. Among the modes of transportation that you answered in the previous question,  which was your \"main\" mode of transportation? (main mode = pinakamadalas gamitin at pinakamatagal na sinasakyan)                                                         583 non-null    object        \n",
      " 12  1a.i. If you rode a bicycle/motorcycle the last time you went to school before the COVID-19 community quarantine started, did you wear a helmet? (Gumamit ka ba ng helmet?)                                                                                 109 non-null    object        \n",
      " 13  1a.ii. If you rode a bicycle/motorcycle the last time you went to school before the COVID-19 community quarantine started, how many were you in the bicycle/motorcycle? (Ilan kayong nakasakay?)                                                            109 non-null    object        \n",
      " 14  1a.iii. Did you sit in the front seat of the car? (Naka-upo ka ba sa harap?)                                                                                                                                                                                13 non-null     object        \n",
      " 15  1a.iv. Did you use a seatbelt or child seat while inside the car? (Gumamit ka ba ng seatbelt o child seat?)                                                                                                                                                 13 non-null     object        \n",
      " 16  2. How long was your travel time from origin to school? (Mga ilang minuto ang biyahe mula pinanggalingan papunta sa paaralan?)                                                                                                                              583 non-null    object        \n",
      " 17  2a. If you answered 'more than 30 minutes' to question number 2, please specify your travel time from origin to school. (Kung mahigit sa 30 minuto ang sagot, pakilagay ilang oras ng biyahe mo papuntang paaralan.)                                        4 non-null      object        \n",
      " 18  3. Did you have a companion when you travelled the last time you went to school before the COVID-19 community quarantine started (May kasama ka ba noong huling pumasok sa school)?                                                                         583 non-null    object        \n",
      " 19  3a. If you answered ‘Yes’ to question 3, who was your companion when you travelled to school? (Sino ang iyong pinakamadalas na kasama = usual companion papuntang paaralan?)                                                                                472 non-null    object        \n",
      " 20  3b. Where did you come from? (Saang baranggay ka nanggaling?)                                                                                                                                                                                               583 non-null    object        \n",
      " 21  4. Have you been involved in an accident while travelling to school? (Nasangkot ka na ba sa isang aksidente habang papunta ng paaralan?)                                                                                                                    583 non-null    object        \n",
      " 22  4a. If you answered ‘Yes’ to question 4, where did the accident occur? (Saan nangyari ang aksidente?)                                                                                                                                                       11 non-null     object        \n",
      " 23  Please specify location where the accident occurred. (Pakilagay kung saan ang aktwal na lokasyon na pinangyarihan ng aksidente.)                                                                                                                            11 non-null     object        \n",
      " 24  4b. Do you remember the vehicle that was involved in the accident? (Naalala mo ba ang klase ng sasakyan na nasangkot sa aksidente?)                                                                                                                         11 non-null     object        \n",
      " 25  What was the vehicle involved in the accident? (Anong klase ng sasakyan ang sangkot sa aksidente?)                                                                                                                                                          5 non-null      object        \n",
      " 26  4b. If you answered ‘No’ to question 4, have you ALMOST encountered an accident while travelling to school? (Muntik ka na bang maaksidente habang papunta ng paaralan?)                                                                                     572 non-null    object        \n",
      " 27  4b.i. If you answered ‘Yes’ to question 4b, where did you ALMOST encounter the accident? (Saan ka muntik maaksidente habang papunta ng paaralan?)                                                                                                           29 non-null     object        \n",
      " 28  Please specify location where the accident was almost encountered. (Pakilagay ang lugar kung saan ka muntik na maaksidente.)                                                                                                                                29 non-null     object        \n",
      " 29  4b.ii. Do you remember the involved vehicle where the accident was almost encountered? (Naalala mo ba ang klase ng sasakyan na muntik maka-aksidente?)                                                                                                      29 non-null     object        \n",
      " 30  What type of vehicle was involved in the incident? (Anong klase ng sasakyan ang muntik na masangkot sa aksidente?)                                                                                                                                          19 non-null     object        \n",
      " 31  1. What modes of transportation did you take when you last went home from school before the COVID-19 community quarantine started? Check all that apply. (Anu-ano ang mga sinakyan mo pauwi?)                                                               583 non-null    object        \n",
      " 32  1a. Among the modes of transportation that you answered in the previous question,  which was your \"main\" mode of transportation? (main mode = pinakamadalas gamitin at pinakamatagal na sinasakyan).1                                                       583 non-null    object        \n",
      " 33  1a.i. If you rode a bicycle/motorcycle the last time you went home from school before the COVID-19 community quarantine started, did you wear a helmet? (Gumamit ka ba ng helmet?)                                                                          107 non-null    object        \n",
      " 34  1a.ii. If you rode a bicycle/motorcycle the last time you went home from school before the COVID-19 community quarantine started, how many were you in the bicycle/motorcycle? (Ilan kayong nakasakay?)                                                     107 non-null    object        \n",
      " 35  1a.iii. Did you sit in the front seat of the car? (Naka-upo ka ba sa harap?).1                                                                                                                                                                              12 non-null     object        \n",
      " 36  1a.iv. Did you use a seatbelt or child seat while inside the car? (Gumamit ka ba ng seatbelt o child seat?).1                                                                                                                                               12 non-null     object        \n",
      " 37  2. How long was your travel time from school to destination? (Mga ilang minuto ang biyahe mula paaralan papunta sa iyong destinasyon?)                                                                                                                      583 non-null    object        \n",
      " 38  2a. If you answered 'more than 30 minutes' to question number 2, please specify your travel time from school to destination. (Kung mahigit sa 30 minuto ang sagot, pakilagay ilang oras ng biyahe mo mula sa paaralan papunta sa destinasyon.)              6 non-null      object        \n",
      " 39  3. Did you have a companion when you travelled the last time you went home from school before the COVID-19 community quarantine started (May kasama ka ba noong huling umuwi mula sa paaralan)?                                                             583 non-null    object        \n",
      " 40  3a. If you answered ‘Yes’ to question 3, who was your companion when you travelled the last time you went home from school before the COVID-19 community quarantine started? (Sino ang iyong pinakamadalas na kasama = usual companion pauwi ng paaralan?)  469 non-null    object        \n",
      " 41  3b. Did you come home immediately after school? (Umuwi ka ba agad galing sa paaralan?)                                                                                                                                                                      583 non-null    object        \n",
      " 42  3b.i. If you answered ‘No’ in question number 3b, please specify where the student went after school. (Piliin 'yung pinakamadalas puntahan bago umuwi sa bahay.)                                                                                            24 non-null     object        \n",
      " 43  3b.ii. Where did you go from school? (Saang baranggay ka pumunta?)                                                                                                                                                                                          576 non-null    object        \n",
      " 44  4. Have you been involved in an accident while travelling from school? (Nasangkot ka na ba sa isang aksidente habang pauwi mula sa paaralan?)                                                                                                               583 non-null    object        \n",
      " 45  4a. If you answered ‘Yes’ to question 4, where did the accident occur? (Saan nangyari ang aksidente? )                                                                                                                                                      12 non-null     object        \n",
      " 46  Please specify location where the accident occurred. (Pakilagay kung saan ang aktwal na lokasyon na pinangyarihan ng aksidente.).1                                                                                                                          12 non-null     object        \n",
      " 47  4b. Do you remember the vehicle that was involved in the accident? (Naalala mo ba ang klase ng sasakyan na nasangkot sa aksidente?).1                                                                                                                       12 non-null     object        \n",
      " 48  What was the vehicle involved in the accident? (Anong klase ng sasakyan ang sangkot sa aksidente?).1                                                                                                                                                        9 non-null      object        \n",
      " 49  4b. If you answered ‘No’ to question 4, have you ALMOST encountered an accident while travelling from school? (Muntik ka na bang maaksidente habang pauwi mula sa paaralan?)                                                                                571 non-null    object        \n",
      " 50  4b.i. If you answered ‘Yes’ to question 4b, where did you ALMOST encounter the accident? (Saan ka muntik maaksidente habang pauwi?)                                                                                                                         12 non-null     object        \n",
      " 51  Please specify location where the accident was almost encountered. (Pakilagay ang lugar kung saan ka muntik na maaksidente.).1                                                                                                                              12 non-null     object        \n",
      " 52  4b.ii. Do you remember the involved vehicle where the accident was almost encountered? (Naalala mo ba ang klase ng sasakyan na muntik maka-aksidente?).1                                                                                                    12 non-null     object        \n",
      " 53  What type of vehicle was involved in the incident?(Anong klase ng sasakyan ang muntik na masangkot sa aksidente?)                                                                                                                                           7 non-null      object        \n",
      "dtypes: datetime64[ns](1), int64(2), object(51)\n",
      "memory usage: 246.1+ KB\n"
     ]
    }
   ],
   "source": [
    "df.info()"
   ]
  }
 ],
 "metadata": {
  "kernelspec": {
   "display_name": ".venv",
   "language": "python",
   "name": "python3"
  },
  "language_info": {
   "codemirror_mode": {
    "name": "ipython",
    "version": 3
   },
   "file_extension": ".py",
   "mimetype": "text/x-python",
   "name": "python",
   "nbconvert_exporter": "python",
   "pygments_lexer": "ipython3",
   "version": "3.11.2"
  }
 },
 "nbformat": 4,
 "nbformat_minor": 2
}
