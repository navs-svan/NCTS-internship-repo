{
 "cells": [
  {
   "cell_type": "markdown",
   "metadata": {},
   "source": [
    "### Header"
   ]
  },
  {
   "cell_type": "code",
   "execution_count": 35,
   "metadata": {},
   "outputs": [],
   "source": [
    "import pandas as pd\n",
    "import numpy as np\n",
    "from thefuzz import process, fuzz    "
   ]
  },
  {
   "cell_type": "markdown",
   "metadata": {},
   "source": [
    "set up the variables that will be passed as parameters on the read_excel function"
   ]
  },
  {
   "cell_type": "code",
   "execution_count": 36,
   "metadata": {},
   "outputs": [],
   "source": [
    "\n",
    "valenzuela_filename = \"./raw_data/Valenzuela_Data.xlsx\"\n",
    "zamboanga_filename = \"./raw_data/Zamboanga_Data.xlsx\"\n",
    "\n",
    "to_col_names = ['code',\n",
    "             'sex',\n",
    "             'age',\n",
    "             'grade',\n",
    "             'class_shift',\n",
    "             'respondent',\n",
    "             'modes_of_transport',\n",
    "             'main_mode',\n",
    "             '-cycle_helmet',\n",
    "             '-cycle_number',\n",
    "             'front_seat',\n",
    "             'seatbelt',\n",
    "             'travel_time',\n",
    "             'travel_time>30',\n",
    "             'companion_bool',\n",
    "             'companion',\n",
    "             'baranggay',\n",
    "             'incident_bool',\n",
    "             'incident_location',\n",
    "             'incident_specific_location',\n",
    "             'incident_vehicle_bool',\n",
    "             'incident_vehicle',\n",
    "             'close_call_bool',\n",
    "             'close_call_location',\n",
    "             'close_call_specific_location',\n",
    "             'close_call_vehicle_bool',\n",
    "             'close_call_vehicle',\n",
    "             ]\n",
    "\n",
    "from_col_names = ['code',\n",
    "                'sex',\n",
    "                'age',\n",
    "                'grade',\n",
    "                'class_shift',\n",
    "                'respondent',\n",
    "                'modes_of_transport',\n",
    "                'main_mode',\n",
    "                '-cycle_helmet',\n",
    "                '-cycle_number',\n",
    "                'front_seat',\n",
    "                'seatbelt',\n",
    "                'travel_time',\n",
    "                'travel_time>30',\n",
    "                'companion_bool',\n",
    "                'companion',\n",
    "                'location_after_school_bool',\n",
    "                'location_after_school',\n",
    "                'baranggay',\n",
    "                'incident_bool',\n",
    "                'incident_location',\n",
    "                'incident_specific_location',\n",
    "                'incident_vehicle_bool',\n",
    "                'incident_vehicle',\n",
    "                'close_call_bool',\n",
    "                'close_call_location',\n",
    "                'close_call_specific_location',\n",
    "                'close_call_vehicle_bool',\n",
    "                'close_call_vehicle'\n",
    "                ]\n",
    "\n",
    "dtype_cols = {'-cycle_helmet': 'boolean',\n",
    "             'front_seat': 'boolean',\n",
    "             'companion_bool': 'boolean',\n",
    "             'incident_bool': 'boolean',\n",
    "             'close_call_bool': 'boolean',\n",
    "             'incident_vehicle_bool': 'boolean',\n",
    "             'main_mode': 'category',\n",
    "             '-cycle_number': 'category',\n",
    "             'travel_time': 'category',\n",
    "             'companion': 'category',\n",
    "             'incident_location': 'category',\n",
    "             'incident_vehicle': 'category',\n",
    "             'close_call_location': 'category',\n",
    "             'close_call_vehicle': 'category'\n",
    "             }\n",
    "\n",
    "\n",
    "\n",
    "\n",
    "to_school_cols = \"C:E,G:I,K:AE\"\n",
    "from_school_cols = \"C:E,G:I,AF:BB\"\n"
   ]
  },
  {
   "cell_type": "markdown",
   "metadata": {},
   "source": [
    "### Import Valenzuel going to school dataset\n",
    "\n",
    "bool columns do not include 'seatbelt' since I want to observe the distinction between seatbelt and childseat usage"
   ]
  },
  {
   "cell_type": "code",
   "execution_count": 37,
   "metadata": {},
   "outputs": [],
   "source": [
    "valenzuela_to_school = pd.read_excel(valenzuela_filename,\n",
    "                                    usecols=to_school_cols,\n",
    "                                    names=to_col_names,\n",
    "                                    dtype=dtype_cols,\n",
    "                                    true_values=['Yes'],\n",
    "                                    false_values=['No'])\n"
   ]
  },
  {
   "cell_type": "markdown",
   "metadata": {},
   "source": [
    "### Cleaning the data\n",
    "\n",
    "Columns needed to be cleaned are 'companion', 'baranggay', and 'close_call_vehicle_bool'"
   ]
  },
  {
   "cell_type": "markdown",
   "metadata": {},
   "source": [
    "#### Cleaning 'close_call_vehicle_bool'"
   ]
  },
  {
   "cell_type": "code",
   "execution_count": 38,
   "metadata": {},
   "outputs": [],
   "source": [
    "valenzuela_to_school['close_call_vehicle_bool'] = valenzuela_to_school['close_call_vehicle_bool'].str.replace('I cannot remember anymore (Hindi na maalala)', 'No', regex=False)\n",
    "d = {'Yes': True, 'No': False}\n",
    "valenzuela_to_school['close_call_vehicle_bool'] = valenzuela_to_school['close_call_vehicle_bool'].replace(d).astype('boolean')\n"
   ]
  },
  {
   "cell_type": "markdown",
   "metadata": {},
   "source": [
    "#### Cleaning 'barangay'"
   ]
  },
  {
   "cell_type": "code",
   "execution_count": 46,
   "metadata": {},
   "outputs": [
    {
     "data": {
      "text/plain": [
       "array(['bilog balangkas', 'caloocan', 'punturin', 'ugong', 'rincon',\n",
       "       'gen. t. de leon', 'marulas', 'lingunan', 'lawa', 'canumay west',\n",
       "       'parada', 'viente reales', 'coloong 1', 'bbb marula',\n",
       "       'brgy 176 bagong silang', 'karuhatan', 'tampoy 2', 'meycauayan',\n",
       "       'p.gregorio st.', 'lazaro canumay', 'assumption ville',\n",
       "       'lawang bato', 'baluyot park quezon city',\n",
       "       'valinzea malinta dolong  tangki', 'assumption',\n",
       "       '471 dulalia street valenzuela city', '688 t santaigo',\n",
       "       'ciudad grande ph2', 'pacheco village gml', 'pinagbayan',\n",
       "       'valenzuela ', 'barangay sto.niño, biñan laguna',\n",
       "       'assumption ville, dulalia', 'canumay'], dtype=object)"
      ]
     },
     "execution_count": 46,
     "metadata": {},
     "output_type": "execute_result"
    }
   ],
   "source": [
    "baranggay_list = ['lingunan', \n",
    "                  'lawa', \n",
    "                  'lawang bato', \n",
    "                  'marulas', \n",
    "                  'viente reales', \n",
    "                  'gen. t. de leon', \n",
    "                  'ugong', \n",
    "                  'marulas', \n",
    "                  'meycauayan', \n",
    "                  'karuhatan',\n",
    "                  'pinagbayan'\n",
    "                ]\n",
    "\n",
    "def extract(string, choices):\n",
    "    string = string.lower()\n",
    "    potential_matches = process.extract(string, choices, limit=2)\n",
    "    for match in potential_matches:\n",
    "        if match[1] >= 75:\n",
    "            return match[0]\n",
    "    return string\n",
    "\n",
    "valenzuela_to_school['baranggay'].apply(extract, args=[baranggay_list]).unique()\n"
   ]
  }
 ],
 "metadata": {
  "kernelspec": {
   "display_name": ".venv",
   "language": "python",
   "name": "python3"
  },
  "language_info": {
   "codemirror_mode": {
    "name": "ipython",
    "version": 3
   },
   "file_extension": ".py",
   "mimetype": "text/x-python",
   "name": "python",
   "nbconvert_exporter": "python",
   "pygments_lexer": "ipython3",
   "version": "3.11.2"
  }
 },
 "nbformat": 4,
 "nbformat_minor": 2
}
