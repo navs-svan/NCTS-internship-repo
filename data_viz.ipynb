{
 "cells": [
  {
   "cell_type": "code",
   "execution_count": 2,
   "metadata": {},
   "outputs": [],
   "source": [
    "import pandas as pd\n",
    "\n",
    "\n",
    "pd.set_option('display.max_columns', None)\n",
    "\n",
    "from_school = pd.read_pickle('./cleaned_data/valenzuela_from_school.pkl')\n",
    "to_school = pd.read_pickle('./cleaned_data/valenzuela_to_school.pkl')"
   ]
  },
  {
   "cell_type": "code",
   "execution_count": 3,
   "metadata": {},
   "outputs": [
    {
     "data": {
      "text/plain": [
       "code                               int64\n",
       "sex                               object\n",
       "age                                int64\n",
       "grade                              int64\n",
       "class_shift                       object\n",
       "respondent                        object\n",
       "modes_of_transport                object\n",
       "main_mode                       category\n",
       "-cycle_helmet                    boolean\n",
       "-cycle_number                   category\n",
       "front_seat                       boolean\n",
       "seatbelt                          object\n",
       "travel_time                     category\n",
       "travel_time>30                    object\n",
       "companion_bool                   boolean\n",
       "companion                       category\n",
       "location_after_school_bool       boolean\n",
       "location_after_school             object\n",
       "baranggay                         object\n",
       "incident_bool                    boolean\n",
       "incident_location               category\n",
       "incident_specific_location        object\n",
       "incident_vehicle_bool            boolean\n",
       "incident_vehicle                category\n",
       "close_call_bool                  boolean\n",
       "close_call_location             category\n",
       "close_call_specific_location      object\n",
       "close_call_vehicle_bool          boolean\n",
       "close_call_vehicle              category\n",
       "dtype: object"
      ]
     },
     "execution_count": 3,
     "metadata": {},
     "output_type": "execute_result"
    }
   ],
   "source": [
    "from_school.dtypes"
   ]
  },
  {
   "cell_type": "code",
   "execution_count": 4,
   "metadata": {},
   "outputs": [
    {
     "data": {
      "text/plain": [
       "code                               int64\n",
       "sex                               object\n",
       "age                                int64\n",
       "grade                              int64\n",
       "class_shift                       object\n",
       "respondent                        object\n",
       "modes_of_transport                object\n",
       "main_mode                       category\n",
       "-cycle_helmet                    boolean\n",
       "-cycle_number                   category\n",
       "front_seat                       boolean\n",
       "seatbelt                          object\n",
       "travel_time                     category\n",
       "travel_time>30                    object\n",
       "companion_bool                   boolean\n",
       "companion                       category\n",
       "baranggay                         object\n",
       "incident_bool                    boolean\n",
       "incident_location               category\n",
       "incident_specific_location        object\n",
       "incident_vehicle_bool            boolean\n",
       "incident_vehicle                category\n",
       "close_call_bool                  boolean\n",
       "close_call_location             category\n",
       "close_call_specific_location      object\n",
       "close_call_vehicle_bool          boolean\n",
       "close_call_vehicle              category\n",
       "dtype: object"
      ]
     },
     "execution_count": 4,
     "metadata": {},
     "output_type": "execute_result"
    }
   ],
   "source": [
    "to_school.dtypes"
   ]
  }
 ],
 "metadata": {
  "kernelspec": {
   "display_name": ".venv",
   "language": "python",
   "name": "python3"
  },
  "language_info": {
   "codemirror_mode": {
    "name": "ipython",
    "version": 3
   },
   "file_extension": ".py",
   "mimetype": "text/x-python",
   "name": "python",
   "nbconvert_exporter": "python",
   "pygments_lexer": "ipython3",
   "version": "3.11.2"
  }
 },
 "nbformat": 4,
 "nbformat_minor": 2
}
