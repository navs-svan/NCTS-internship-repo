{
 "cells": [
  {
   "cell_type": "markdown",
   "metadata": {},
   "source": [
    "### DATA CLEANING"
   ]
  },
  {
   "cell_type": "code",
   "execution_count": 2,
   "metadata": {},
   "outputs": [],
   "source": [
    "import pandas as pd\n",
    "from thefuzz import process   \n",
    "\n",
    "def clean_text(string, choices):\n",
    "    try:\n",
    "        string = string.lower()\n",
    "        potential_matches = process.extract(string, choices, limit=2)\n",
    "        for match in potential_matches:\n",
    "            if match[1] >= 75:\n",
    "                return match[0]\n",
    "        return string\n",
    "    except AttributeError:\n",
    "        return string\n"
   ]
  },
  {
   "cell_type": "markdown",
   "metadata": {},
   "source": [
    "set up the variables that will be passed as parameters on the read_excel function"
   ]
  },
  {
   "cell_type": "code",
   "execution_count": 3,
   "metadata": {},
   "outputs": [],
   "source": [
    "\n",
    "valenzuela_filename = \"./raw_data/Valenzuela_Data.xlsx\"\n",
    "zamboanga_filename = \"./raw_data/Zamboanga_Data.xlsx\"\n",
    "\n",
    "to_col_names = ['code',\n",
    "             'sex',\n",
    "             'age',\n",
    "             'grade',\n",
    "             'class_shift',\n",
    "             'respondent',\n",
    "             'modes_of_transport',\n",
    "             'main_mode',\n",
    "             '-cycle_helmet',\n",
    "             '-cycle_number',\n",
    "             'front_seat',\n",
    "             'seatbelt',\n",
    "             'travel_time',\n",
    "             'travel_time>30',\n",
    "             'companion_bool',\n",
    "             'companion',\n",
    "             'baranggay',\n",
    "             'incident_bool',\n",
    "             'incident_location',\n",
    "             'incident_specific_location',\n",
    "             'incident_vehicle_bool',\n",
    "             'incident_vehicle',\n",
    "             'close_call_bool',\n",
    "             'close_call_location',\n",
    "             'close_call_specific_location',\n",
    "             'close_call_vehicle_bool',\n",
    "             'close_call_vehicle',\n",
    "             ]\n",
    "\n",
    "from_col_names = ['code',\n",
    "                'sex',\n",
    "                'age',\n",
    "                'grade',\n",
    "                'class_shift',\n",
    "                'respondent',\n",
    "                'modes_of_transport',\n",
    "                'main_mode',\n",
    "                '-cycle_helmet',\n",
    "                '-cycle_number',\n",
    "                'front_seat',\n",
    "                'seatbelt',\n",
    "                'travel_time',\n",
    "                'travel_time>30',\n",
    "                'companion_bool',\n",
    "                'companion',\n",
    "                'location_after_school_bool',\n",
    "                'location_after_school',\n",
    "                'baranggay',\n",
    "                'incident_bool',\n",
    "                'incident_location',\n",
    "                'incident_specific_location',\n",
    "                'incident_vehicle_bool',\n",
    "                'incident_vehicle',\n",
    "                'close_call_bool',\n",
    "                'close_call_location',\n",
    "                'close_call_specific_location',\n",
    "                'close_call_vehicle_bool',\n",
    "                'close_call_vehicle'\n",
    "                ]\n",
    "\n",
    "dtype_cols = {'-cycle_helmet': 'boolean',\n",
    "             'front_seat': 'boolean',\n",
    "             'companion_bool': 'boolean',\n",
    "             'incident_bool': 'boolean',\n",
    "             'close_call_bool': 'boolean',\n",
    "             'incident_vehicle_bool': 'boolean',\n",
    "             'main_mode': 'category',\n",
    "             '-cycle_number': 'category',\n",
    "             'travel_time': 'category',\n",
    "             'companion': 'category',\n",
    "             'incident_location': 'category',\n",
    "             'incident_vehicle': 'category',\n",
    "             'close_call_location': 'category',\n",
    "             'close_call_vehicle': 'category'\n",
    "             }\n",
    "\n",
    "\n",
    "to_school_cols = \"C:E,G:I,K:AE\"\n",
    "from_school_cols = \"C:E,G:I,AF:BB\"\n",
    "\n",
    "bool_dict = {'Yes': True, 'No': False, 'I cannot remember anymore (Hindi na maalala)': False}\n",
    "\n",
    "pd.set_option('display.max_columns', None)"
   ]
  },
  {
   "cell_type": "markdown",
   "metadata": {},
   "source": [
    "## __Valenzuela: To School__ dataset\n",
    "\n",
    "bool columns do not include 'seatbelt' since I want to observe the distinction between seatbelt and childseat usage"
   ]
  },
  {
   "cell_type": "code",
   "execution_count": 4,
   "metadata": {},
   "outputs": [],
   "source": [
    "valenzuela_to_school = pd.read_excel(valenzuela_filename,\n",
    "                                    usecols=to_school_cols,\n",
    "                                    names=to_col_names,\n",
    "                                    dtype=dtype_cols,\n",
    "                                    true_values=['Yes'],\n",
    "                                    false_values=['No'])"
   ]
  },
  {
   "cell_type": "markdown",
   "metadata": {},
   "source": [
    "### Cleaning the data in `valenzuela_to_school` dataframe\n",
    "\n",
    "Columns needed to be cleaned are \n",
    "\n",
    "* 'close_call_vehicle_bool'\n",
    "* 'baranggay'\n",
    "* 'companion' "
   ]
  },
  {
   "cell_type": "markdown",
   "metadata": {},
   "source": [
    "##### Cleaning `valenzuela_to_school['close_call_vehicle_bool']`\n",
    "\n",
    "After cleaning, the dtype of the column should be 'boolean' since the column can contain NaN values"
   ]
  },
  {
   "cell_type": "code",
   "execution_count": 5,
   "metadata": {},
   "outputs": [
    {
     "data": {
      "text/plain": [
       "<BooleanArray>\n",
       "[<NA>, True, False]\n",
       "Length: 3, dtype: boolean"
      ]
     },
     "execution_count": 5,
     "metadata": {},
     "output_type": "execute_result"
    }
   ],
   "source": [
    "valenzuela_to_school['close_call_vehicle_bool'] = valenzuela_to_school['close_call_vehicle_bool'].replace(bool_dict).astype('boolean')\n",
    "valenzuela_to_school['close_call_vehicle_bool'].unique()\n"
   ]
  },
  {
   "cell_type": "markdown",
   "metadata": {},
   "source": [
    "##### Cleaning `valenzuela_to_school['baranggay']`\n",
    "\n",
    "After cleaning, the column should not contain misspelled baranggay names. "
   ]
  },
  {
   "cell_type": "code",
   "execution_count": 6,
   "metadata": {},
   "outputs": [
    {
     "data": {
      "text/plain": [
       "array(['balangkas', 'caloocan', 'punturin', 'ugong', 'rincon',\n",
       "       'gen. t. de leon', 'marulas', 'lingunan', 'meycauayan, bulacan',\n",
       "       'canumay', 'parada', 'viente reales', 'coloong', 'karuhatan',\n",
       "       'lawang bato', 'quezon city', 'malinta', 'valenzuela ',\n",
       "       'binan laguna'], dtype=object)"
      ]
     },
     "execution_count": 6,
     "metadata": {},
     "output_type": "execute_result"
    }
   ],
   "source": [
    "bgy_list1 = ['assumption ville', \n",
    "            'balangkas', \n",
    "            'canumay', \n",
    "            'coloong', \n",
    "            'gen. t. de leon', \n",
    "            'karuhatan', \n",
    "            'lawa', \n",
    "            'lawang bato', \n",
    "            'lingunan', \n",
    "            'malinta', \n",
    "            'marulas', \n",
    "            'marulas', \n",
    "            'meycauayan', \n",
    "            'pinagbayanan', \n",
    "            'quezon city', \n",
    "            'ugong', \n",
    "            'viente reales'\n",
    "            ]\n",
    "\n",
    "bgy_dict1 = {'brgy 176 bagong silang':'caloocan', \n",
    "            'tampoy 2':'marulas', \n",
    "            'p.gregorio st.':'lingunan', \n",
    "            'assumption ville':'lingunan',\n",
    "            'pinagbayanan':'lingunan',\n",
    "            '688 t santaigo':'viente reales',\n",
    "            'pacheco village gml':'malinta',\n",
    "            'lawa':'meycauayan, bulacan',\n",
    "            'ciudad grande ph2':'meycauayan, bulacan',\n",
    "            'meycauayan':'meycauayan, bulacan',\n",
    "            'barangay sto.niño, biñan laguna':'binan laguna'\n",
    "            }\n",
    "\n",
    "valenzuela_to_school['baranggay'] = valenzuela_to_school['baranggay'].apply(clean_text, args=[bgy_list1])\n",
    "valenzuela_to_school['baranggay'].replace(bgy_dict1, inplace=True)\n",
    "valenzuela_to_school['baranggay'].unique()"
   ]
  },
  {
   "cell_type": "markdown",
   "metadata": {},
   "source": [
    "##### Cleaning `valenzuela_to_school['companion']`\n",
    "\n",
    "Misspelled categories phrases containing additional words are cleaned to have uniform categories.\n",
    "\n",
    "Furthermore, categories that are similar to each other are grouped. The following merges were done.\n",
    "\n",
    "* merged `grandmother` and `grandfather` into a single category `grandparent`\n",
    "* merged `sister` and `brother`, regardless of age, into a single category `sibling`"
   ]
  },
  {
   "cell_type": "code",
   "execution_count": 7,
   "metadata": {},
   "outputs": [
    {
     "data": {
      "text/plain": [
       "Index(['adult relative', 'sibling', 'cousin', 'father', 'grandparent',\n",
       "       'guardian', 'mother', 'schoolmate', 'service', 'none'],\n",
       "      dtype='object')"
      ]
     },
     "execution_count": 7,
     "metadata": {},
     "output_type": "execute_result"
    }
   ],
   "source": [
    "cmp_list1 = ['auntie',\n",
    "            'service',\n",
    "            'guardian',\n",
    "            'grandmother',\n",
    "            'grandfather',\n",
    "            'brother',\n",
    "            'sister',\n",
    "            'grandparent',\n",
    "            'father',\n",
    "            'mother',\n",
    "            'friends',\n",
    "            'schoolmate'\n",
    "            ]\n",
    "\n",
    "cmp_cat1 = {'auntie':'adult relative',\n",
    "            'brother':'sibling',\n",
    "            'driver':'service',\n",
    "            'friends':'schoolmate',\n",
    "            'grandfather':'grandparent',\n",
    "            'grandmother':'grandparent',\n",
    "            'kamag anak':'adult relative',\n",
    "            'kapatid':'sibling',\n",
    "            'lola':'grandparent',\n",
    "            'lolo':'grandparent',\n",
    "            'parents / relatives':'adult relative',\n",
    "            'tita':'adult relative',\n",
    "            'tito':'adult relative',\n",
    "            'uncle tricycle driver':'service',\n",
    "            'yaya':'guardian'\n",
    "            }\n",
    "\n",
    "valenzuela_to_school['companion'] = valenzuela_to_school['companion'].apply(clean_text, args=[cmp_list1]).astype('category')\n",
    "valenzuela_to_school['companion'] = valenzuela_to_school['companion'].cat.add_categories('none').fillna('none')\n",
    "valenzuela_to_school['companion'].replace(cmp_cat1, inplace=True)\n",
    "valenzuela_to_school['companion'].cat.categories\n",
    "\n"
   ]
  },
  {
   "cell_type": "markdown",
   "metadata": {},
   "source": [
    "## __Valenzuela: From School__ dataset"
   ]
  },
  {
   "cell_type": "code",
   "execution_count": 8,
   "metadata": {},
   "outputs": [],
   "source": [
    "dtype_cols['location_after_school_bool'] = 'boolean'\n",
    "\n",
    "valenzuela_from_school = pd.read_excel(valenzuela_filename,\n",
    "                                        usecols=from_school_cols,\n",
    "                                        names=from_col_names,\n",
    "                                        dtype=dtype_cols,\n",
    "                                        true_values=['Yes'],\n",
    "                                        false_values=['No'])"
   ]
  },
  {
   "cell_type": "markdown",
   "metadata": {},
   "source": [
    "### Cleaning the data in `valenzuela_from_school` dataframe\n",
    "\n",
    "Columns needed to be cleaned are \n",
    "* 'close_call_vehicle_bool'\n",
    "* 'baranggay'\n",
    "* 'location_after_school'\n",
    "* 'companion' "
   ]
  },
  {
   "cell_type": "markdown",
   "metadata": {},
   "source": [
    "##### Cleaning `valenzuela_from_school['close_call_vehicle_bool']`\n",
    "\n",
    "After cleaning, the dtype of the column should be 'boolean' since the column can contain NaN values"
   ]
  },
  {
   "cell_type": "code",
   "execution_count": 9,
   "metadata": {},
   "outputs": [
    {
     "data": {
      "text/plain": [
       "<BooleanArray>\n",
       "[<NA>, False, True]\n",
       "Length: 3, dtype: boolean"
      ]
     },
     "execution_count": 9,
     "metadata": {},
     "output_type": "execute_result"
    }
   ],
   "source": [
    "valenzuela_from_school['close_call_vehicle_bool'] = valenzuela_from_school['close_call_vehicle_bool'].replace(bool_dict).astype('boolean')\n",
    "valenzuela_from_school['close_call_vehicle_bool'].unique()\n"
   ]
  },
  {
   "cell_type": "markdown",
   "metadata": {},
   "source": [
    "##### Cleaning `valenzuela_from_school['baranggay']`\n"
   ]
  },
  {
   "cell_type": "code",
   "execution_count": 10,
   "metadata": {},
   "outputs": [
    {
     "data": {
      "text/plain": [
       "array(['balangkas', 'caloocan', 'punturin', 'ugong', 'rincon',\n",
       "       'gen. t. de leon', 'marulas', 'lingunan', 'meycauayan, bulacan',\n",
       "       'canumay', 'parada', 'viente reales', 'coloong', 'went home',\n",
       "       'valenzuela', 'lawang bato', 'quezon city', 'malolos, bulacan',\n",
       "       'karuhatan', 'pinagbayanan', 'biñan, laguna'], dtype=object)"
      ]
     },
     "execution_count": 10,
     "metadata": {},
     "output_type": "execute_result"
    }
   ],
   "source": [
    "bgy_list2 = ['assumption ville', \n",
    "            'balangkas', \n",
    "            'canumay', \n",
    "            'coloong', \n",
    "            'gen. t. de leon', \n",
    "            'karuhatan', \n",
    "            'lawa', \n",
    "            'lawang bato', \n",
    "            'lingunan', \n",
    "            'malinta', \n",
    "            'marulas', \n",
    "            'marulas', \n",
    "            'meycauayan', \n",
    "            'pinagbayanan',\n",
    "            'punturin', \n",
    "            'quezon city', \n",
    "            'ugong', \n",
    "            'viente reales',\n",
    "            'ciudad grande',\n",
    "            'wala',\n",
    "            'home',\n",
    "            'bahay'\n",
    "            ]\n",
    "\n",
    "bgy_dict2 = {'ciudad grande':'meycauayan, bulacan',\n",
    "             'lawa':'meycauayan, bulacan',\n",
    "             'pag ibig st.':'lingunan',\n",
    "             'brgy 176 bagong silang': 'caloocan',\n",
    "             'tampoy2':'marulas',\n",
    "             'meycauayan':'meycauayan, bulacan',\n",
    "             'p.gregorio st.':'lingunan',\n",
    "             'assumption ville':'lingunan',\n",
    "             'sumapang matanda malolos':'malolos, bulacan',\n",
    "             '688 t santaigo':'viente reales',\n",
    "             'sto. niño biñan, laguna':'biñan, laguna',\n",
    "             'san diego':'lingunan',\n",
    "             'p.gregorio':'lingunan',\n",
    "             'never been to other brgy. from school':'went home',\n",
    "             'bahay':'went home',\n",
    "             'home':'went home',\n",
    "             'wala':'went home'\n",
    "             }\n",
    "\n",
    "valenzuela_from_school['baranggay'] = valenzuela_from_school['baranggay'].fillna('went home').apply(clean_text, args=[bgy_list2])\n",
    "valenzuela_from_school['baranggay'].replace(bgy_dict2, inplace=True)\n",
    "\n",
    "valenzuela_from_school['baranggay'].unique()"
   ]
  },
  {
   "cell_type": "markdown",
   "metadata": {},
   "source": [
    "##### Cleaning `valenzuela_from_school['location_after_school']`"
   ]
  },
  {
   "cell_type": "code",
   "execution_count": 11,
   "metadata": {},
   "outputs": [
    {
     "data": {
      "text/plain": [
       "array(['directly went home',\n",
       "       'mall/ restaurant/ commercial establishment/ place of recreation',\n",
       "       'inside school service', 'office of parent/guardian'], dtype=object)"
      ]
     },
     "execution_count": 11,
     "metadata": {},
     "output_type": "execute_result"
    }
   ],
   "source": [
    "after_dict = {'Deretso uwi na ':'directly went home',\n",
    "              'bahay':'directly went home',\n",
    "              'deretso uwi na ':'directly went home',\n",
    "              'service kasi madami pa hinahatid bago ako':'inside school service',\n",
    "              'waiting for other service mates':'inside school service',\n",
    "              'playground':'mall/ restaurant/ commercial establishment/ place of recreation',\n",
    "              'stores nearby':'mall/ restaurant/ commercial establishment/ place of recreation',\n",
    "              'swimming practice':'mall/ restaurant/ commercial establishment/ place of recreation',\n",
    "              'matgal masundo ng trykel kc traffic daw po':'inside school service',\n",
    "              'palengke':'mall/ restaurant/ commercial establishment/ place of recreation',\n",
    "              'tindahan':'mall/ restaurant/ commercial establishment/ place of recreation',\n",
    "              'shop':'mall/ restaurant/ commercial establishment/ place of recreation'\n",
    "              }\n",
    "\n",
    "valenzuela_from_school['location_after_school'] = valenzuela_from_school[\"location_after_school\"].str.lower().fillna('directly went home')\n",
    "valenzuela_from_school['location_after_school'].replace(after_dict, inplace=True)\n",
    "valenzuela_from_school['location_after_school'].unique()"
   ]
  },
  {
   "cell_type": "markdown",
   "metadata": {},
   "source": [
    "##### Cleaning `valenzuela_from_school['companion']`"
   ]
  },
  {
   "cell_type": "code",
   "execution_count": 12,
   "metadata": {},
   "outputs": [
    {
     "data": {
      "text/plain": [
       "Index(['adult relative', 'sibling', 'cousin', 'father', 'grandparent',\n",
       "       'guardian', 'mother', 'schoolmate', 'service', 'none'],\n",
       "      dtype='object')"
      ]
     },
     "execution_count": 12,
     "metadata": {},
     "output_type": "execute_result"
    }
   ],
   "source": [
    "cmp_list2 = ['auntie',\n",
    "            'service',\n",
    "            'guardian',\n",
    "            'grandmother',\n",
    "            'grandfather',\n",
    "            'brother',\n",
    "            'sister',\n",
    "            'grandparent',\n",
    "            'father',\n",
    "            'mother',\n",
    "            'friends',\n",
    "            'schoolmate',\n",
    "            'classmate',\n",
    "            'kaibigan'\n",
    "            ]\n",
    "\n",
    "cmp_cat2 = {'auntie':'adult relative',\n",
    "            'brother':'sibling',\n",
    "            'classmate':'schoolmate',\n",
    "            'driver':'service',\n",
    "            'friends':'schoolmate',\n",
    "            'grandfather':'grandparent',\n",
    "            'grandmother':'grandparent',\n",
    "            'husband':'father',\n",
    "            'kaibigan':'schoolmate',\n",
    "            'kaklase':'schoolmate',\n",
    "            'kamag anak':'adult relative',\n",
    "            'kapit bahay sa street namin':'schoolmate',\n",
    "            'kapwa mag aaral ko p0':'schoolmate',\n",
    "            'lola':'grandparent',\n",
    "            'kapatid':'sibling',\n",
    "            'mama minsan si papa':'mother',\n",
    "            'parents / relatives':'adult relative',\n",
    "            'tita':'adult relative',\n",
    "            'tito':'adult relative',\n",
    "            'uncle tricycle driver':'service',\n",
    "            'yaya':'guardian',\n",
    "            'pinsan':'cousin',\n",
    "            'wala':'none'\n",
    "            }\n",
    "\n",
    "valenzuela_from_school['companion'] = valenzuela_from_school['companion'].apply(clean_text, args=[cmp_list2]).astype('category')\n",
    "valenzuela_from_school['companion'] = valenzuela_from_school['companion'].cat.add_categories('none').fillna('none')\n",
    "valenzuela_from_school['companion'].replace(cmp_cat2, inplace=True)\n",
    "valenzuela_from_school['companion'].cat.categories"
   ]
  },
  {
   "cell_type": "code",
   "execution_count": 13,
   "metadata": {},
   "outputs": [],
   "source": [
    "pd.to_pickle(valenzuela_to_school,'./cleaned_data/valenzuela_to_school.pkl')\n",
    "pd.to_pickle(valenzuela_from_school,'./cleaned_data/valenzuela_from_school.pkl')"
   ]
  }
 ],
 "metadata": {
  "kernelspec": {
   "display_name": ".venv",
   "language": "python",
   "name": "python3"
  },
  "language_info": {
   "codemirror_mode": {
    "name": "ipython",
    "version": 3
   },
   "file_extension": ".py",
   "mimetype": "text/x-python",
   "name": "python",
   "nbconvert_exporter": "python",
   "pygments_lexer": "ipython3",
   "version": "3.11.2"
  }
 },
 "nbformat": 4,
 "nbformat_minor": 2
}
